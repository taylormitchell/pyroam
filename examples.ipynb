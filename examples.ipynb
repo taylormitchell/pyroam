{
 "cells": [
  {
   "cell_type": "code",
   "execution_count": 1,
   "metadata": {},
   "outputs": [],
   "source": [
    "%load_ext autoreload\n",
    "%autoreload 2\n",
    "from pyroam import RoamGraph"
   ]
  },
  {
   "cell_type": "code",
   "execution_count": 9,
   "metadata": {},
   "outputs": [],
   "source": [
    "import datetime as dt"
   ]
  },
  {
   "cell_type": "code",
   "execution_count": 3,
   "metadata": {},
   "outputs": [],
   "source": [
    "db = RoamGraph.from_path(\"~/Github/roam_backup/json/second_brain.json\")"
   ]
  },
  {
   "cell_type": "markdown",
   "metadata": {},
   "source": [
    "## Unsupported queries"
   ]
  },
  {
   "cell_type": "markdown",
   "metadata": {},
   "source": [
    "### Top 10 page references used in the last 2 days"
   ]
  },
  {
   "cell_type": "code",
   "execution_count": null,
   "metadata": {},
   "outputs": [],
   "source": [
    "from functools import reduce\n",
    "from collections import Counter\n",
    "import datetime as dt"
   ]
  },
  {
   "cell_type": "code",
   "execution_count": 28,
   "metadata": {},
   "outputs": [],
   "source": [
    "two_days_ago = dt.datetime.now() - dt.timedelta(2)\n",
    "blocks = db.query_many(lambda b: (b.create_time >= two_days_ago)&(\":\" not in b.to_string()))"
   ]
  },
  {
   "cell_type": "code",
   "execution_count": 29,
   "metadata": {},
   "outputs": [],
   "source": [
    "tags = reduce(lambda x,y: x+y, [b.get_tags(inherit=False) for b in blocks])\n",
    "counter = Counter(tags)"
   ]
  },
  {
   "cell_type": "code",
   "execution_count": 31,
   "metadata": {},
   "outputs": [
    {
     "data": {
      "text/plain": [
       "[('Question', 6),\n",
       " ('Exam Tip', 5),\n",
       " ('Feeling Log', 4),\n",
       " ('Big Data on AWS', 4),\n",
       " ('Aside', 4),\n",
       " ('Amazon EMR', 4),\n",
       " ('Mind', 2),\n",
       " ('Life Logging', 2),\n",
       " (\"Today's Plan\", 2),\n",
       " ('pyroam', 2)]"
      ]
     },
     "execution_count": 31,
     "metadata": {},
     "output_type": "execute_result"
    }
   ],
   "source": [
    "counter.most_common()[:10]"
   ]
  },
  {
   "cell_type": "markdown",
   "metadata": {},
   "source": [
    "### What were the questions I was asking?"
   ]
  },
  {
   "cell_type": "code",
   "execution_count": 39,
   "metadata": {},
   "outputs": [],
   "source": [
    "from IPython.core.display import display, HTML\n",
    "import os\n",
    "with open(\"style.css\") as f:\n",
    "    style = \"<style>%s</style>\" % f.read()"
   ]
  },
  {
   "cell_type": "code",
   "execution_count": 44,
   "metadata": {},
   "outputs": [
    {
     "data": {
      "text/html": [
       "<style>.rm-page-ref-brackets {\n",
       "    color: #a7b6c2;\n",
       "}\n",
       "\n",
       ".rm-page-ref-link-color {\n",
       "    color: #106ba3;\n",
       "}\n",
       "\n",
       ".rm-page-ref-tag {\n",
       "    color: #a7b6c2;\n",
       "}\n",
       "\n",
       ".rm-block-ref {\n",
       "    padding: 2px 2px;\n",
       "    margin: -2px 0px;\n",
       "    display: inline;\n",
       "    border-bottom: 0.5px solid #d8e1e8;\n",
       "    cursor: alias;\n",
       "}\n",
       "\n",
       ".roam-highlight {\n",
       "    background-color: #fef09f;\n",
       "    margin: -2px;\n",
       "    padding: 2px;\n",
       "}\n",
       "\n",
       ".bp3-button.bp3-small, .bp3-small .bp3-button {\n",
       "    min-height: 24px;\n",
       "    min-width: 24px;\n",
       "    padding: 0 7px;\n",
       "}\n",
       "\n",
       "pre {\n",
       "    text-align: left;\n",
       "    border-radius: 5px;\n",
       "    border: 1px solid #BCBEC0;\n",
       "    display: block;\n",
       "    padding: 10px;\n",
       "    margin: 0 0 10px;\n",
       "    font:12px Monaco,Consolas,\"Andale  Mono\",\"DejaVu Sans Mono\",monospace;\n",
       "    color: #333;\n",
       "    background-color: #f5f5f5;\n",
       "}\n",
       "</style>Where did this point come from? <span tabindex=\"-1\" data-tag=\"Question\" class=\"rm-page-ref rm-page-ref-tag\">#Question</span>"
      ],
      "text/plain": [
       "<IPython.core.display.HTML object>"
      ]
     },
     "metadata": {},
     "output_type": "display_data"
    },
    {
     "data": {
      "text/html": [
       "<style>.rm-page-ref-brackets {\n",
       "    color: #a7b6c2;\n",
       "}\n",
       "\n",
       ".rm-page-ref-link-color {\n",
       "    color: #106ba3;\n",
       "}\n",
       "\n",
       ".rm-page-ref-tag {\n",
       "    color: #a7b6c2;\n",
       "}\n",
       "\n",
       ".rm-block-ref {\n",
       "    padding: 2px 2px;\n",
       "    margin: -2px 0px;\n",
       "    display: inline;\n",
       "    border-bottom: 0.5px solid #d8e1e8;\n",
       "    cursor: alias;\n",
       "}\n",
       "\n",
       ".roam-highlight {\n",
       "    background-color: #fef09f;\n",
       "    margin: -2px;\n",
       "    padding: 2px;\n",
       "}\n",
       "\n",
       ".bp3-button.bp3-small, .bp3-small .bp3-button {\n",
       "    min-height: 24px;\n",
       "    min-width: 24px;\n",
       "    padding: 0 7px;\n",
       "}\n",
       "\n",
       "pre {\n",
       "    text-align: left;\n",
       "    border-radius: 5px;\n",
       "    border: 1px solid #BCBEC0;\n",
       "    display: block;\n",
       "    padding: 10px;\n",
       "    margin: 0 0 10px;\n",
       "    font:12px Monaco,Consolas,\"Andale  Mono\",\"DejaVu Sans Mono\",monospace;\n",
       "    color: #333;\n",
       "    background-color: #f5f5f5;\n",
       "}\n",
       "</style>Can see s3 buckets on my Hue cluster because the bucket and hue are on the same AWS account? <span tabindex=\"-1\" data-tag=\"Question\" class=\"rm-page-ref rm-page-ref-tag\">#Question</span>"
      ],
      "text/plain": [
       "<IPython.core.display.HTML object>"
      ]
     },
     "metadata": {},
     "output_type": "display_data"
    },
    {
     "data": {
      "text/html": [
       "<style>.rm-page-ref-brackets {\n",
       "    color: #a7b6c2;\n",
       "}\n",
       "\n",
       ".rm-page-ref-link-color {\n",
       "    color: #106ba3;\n",
       "}\n",
       "\n",
       ".rm-page-ref-tag {\n",
       "    color: #a7b6c2;\n",
       "}\n",
       "\n",
       ".rm-block-ref {\n",
       "    padding: 2px 2px;\n",
       "    margin: -2px 0px;\n",
       "    display: inline;\n",
       "    border-bottom: 0.5px solid #d8e1e8;\n",
       "    cursor: alias;\n",
       "}\n",
       "\n",
       ".roam-highlight {\n",
       "    background-color: #fef09f;\n",
       "    margin: -2px;\n",
       "    padding: 2px;\n",
       "}\n",
       "\n",
       ".bp3-button.bp3-small, .bp3-small .bp3-button {\n",
       "    min-height: 24px;\n",
       "    min-width: 24px;\n",
       "    padding: 0 7px;\n",
       "}\n",
       "\n",
       "pre {\n",
       "    text-align: left;\n",
       "    border-radius: 5px;\n",
       "    border: 1px solid #BCBEC0;\n",
       "    display: block;\n",
       "    padding: 10px;\n",
       "    margin: 0 0 10px;\n",
       "    font:12px Monaco,Consolas,\"Andale  Mono\",\"DejaVu Sans Mono\",monospace;\n",
       "    color: #333;\n",
       "    background-color: #f5f5f5;\n",
       "}\n",
       "</style>Why we only have the pig editor available? Was that selected when the cluster was set up? <span tabindex=\"-1\" data-tag=\"Question\" class=\"rm-page-ref rm-page-ref-tag\">#Question</span>"
      ],
      "text/plain": [
       "<IPython.core.display.HTML object>"
      ]
     },
     "metadata": {},
     "output_type": "display_data"
    },
    {
     "data": {
      "text/html": [
       "<style>.rm-page-ref-brackets {\n",
       "    color: #a7b6c2;\n",
       "}\n",
       "\n",
       ".rm-page-ref-link-color {\n",
       "    color: #106ba3;\n",
       "}\n",
       "\n",
       ".rm-page-ref-tag {\n",
       "    color: #a7b6c2;\n",
       "}\n",
       "\n",
       ".rm-block-ref {\n",
       "    padding: 2px 2px;\n",
       "    margin: -2px 0px;\n",
       "    display: inline;\n",
       "    border-bottom: 0.5px solid #d8e1e8;\n",
       "    cursor: alias;\n",
       "}\n",
       "\n",
       ".roam-highlight {\n",
       "    background-color: #fef09f;\n",
       "    margin: -2px;\n",
       "    padding: 2px;\n",
       "}\n",
       "\n",
       ".bp3-button.bp3-small, .bp3-small .bp3-button {\n",
       "    min-height: 24px;\n",
       "    min-width: 24px;\n",
       "    padding: 0 7px;\n",
       "}\n",
       "\n",
       "pre {\n",
       "    text-align: left;\n",
       "    border-radius: 5px;\n",
       "    border: 1px solid #BCBEC0;\n",
       "    display: block;\n",
       "    padding: 10px;\n",
       "    margin: 0 0 10px;\n",
       "    font:12px Monaco,Consolas,\"Andale  Mono\",\"DejaVu Sans Mono\",monospace;\n",
       "    color: #333;\n",
       "    background-color: #f5f5f5;\n",
       "}\n",
       "</style>Can spark estimate how much memory is needed for a given script before running it? <span tabindex=\"-1\" data-tag=\"Question\" class=\"rm-page-ref rm-page-ref-tag\">#Question</span>"
      ],
      "text/plain": [
       "<IPython.core.display.HTML object>"
      ]
     },
     "metadata": {},
     "output_type": "display_data"
    },
    {
     "data": {
      "text/html": [
       "<style>.rm-page-ref-brackets {\n",
       "    color: #a7b6c2;\n",
       "}\n",
       "\n",
       ".rm-page-ref-link-color {\n",
       "    color: #106ba3;\n",
       "}\n",
       "\n",
       ".rm-page-ref-tag {\n",
       "    color: #a7b6c2;\n",
       "}\n",
       "\n",
       ".rm-block-ref {\n",
       "    padding: 2px 2px;\n",
       "    margin: -2px 0px;\n",
       "    display: inline;\n",
       "    border-bottom: 0.5px solid #d8e1e8;\n",
       "    cursor: alias;\n",
       "}\n",
       "\n",
       ".roam-highlight {\n",
       "    background-color: #fef09f;\n",
       "    margin: -2px;\n",
       "    padding: 2px;\n",
       "}\n",
       "\n",
       ".bp3-button.bp3-small, .bp3-small .bp3-button {\n",
       "    min-height: 24px;\n",
       "    min-width: 24px;\n",
       "    padding: 0 7px;\n",
       "}\n",
       "\n",
       "pre {\n",
       "    text-align: left;\n",
       "    border-radius: 5px;\n",
       "    border: 1px solid #BCBEC0;\n",
       "    display: block;\n",
       "    padding: 10px;\n",
       "    margin: 0 0 10px;\n",
       "    font:12px Monaco,Consolas,\"Andale  Mono\",\"DejaVu Sans Mono\",monospace;\n",
       "    color: #333;\n",
       "    background-color: #f5f5f5;\n",
       "}\n",
       "</style>What does this mean? <span tabindex=\"-1\" data-tag=\"Question\" class=\"rm-page-ref rm-page-ref-tag\">#Question</span>"
      ],
      "text/plain": [
       "<IPython.core.display.HTML object>"
      ]
     },
     "metadata": {},
     "output_type": "display_data"
    },
    {
     "data": {
      "text/html": [
       "<style>.rm-page-ref-brackets {\n",
       "    color: #a7b6c2;\n",
       "}\n",
       "\n",
       ".rm-page-ref-link-color {\n",
       "    color: #106ba3;\n",
       "}\n",
       "\n",
       ".rm-page-ref-tag {\n",
       "    color: #a7b6c2;\n",
       "}\n",
       "\n",
       ".rm-block-ref {\n",
       "    padding: 2px 2px;\n",
       "    margin: -2px 0px;\n",
       "    display: inline;\n",
       "    border-bottom: 0.5px solid #d8e1e8;\n",
       "    cursor: alias;\n",
       "}\n",
       "\n",
       ".roam-highlight {\n",
       "    background-color: #fef09f;\n",
       "    margin: -2px;\n",
       "    padding: 2px;\n",
       "}\n",
       "\n",
       ".bp3-button.bp3-small, .bp3-small .bp3-button {\n",
       "    min-height: 24px;\n",
       "    min-width: 24px;\n",
       "    padding: 0 7px;\n",
       "}\n",
       "\n",
       "pre {\n",
       "    text-align: left;\n",
       "    border-radius: 5px;\n",
       "    border: 1px solid #BCBEC0;\n",
       "    display: block;\n",
       "    padding: 10px;\n",
       "    margin: 0 0 10px;\n",
       "    font:12px Monaco,Consolas,\"Andale  Mono\",\"DejaVu Sans Mono\",monospace;\n",
       "    color: #333;\n",
       "    background-color: #f5f5f5;\n",
       "}\n",
       "</style>Is any of that business about amazon endpoints to communicate between s3 and EMR coming into play here? <span tabindex=\"-1\" data-tag=\"Question\" class=\"rm-page-ref rm-page-ref-tag\">#Question</span>"
      ],
      "text/plain": [
       "<IPython.core.display.HTML object>"
      ]
     },
     "metadata": {},
     "output_type": "display_data"
    }
   ],
   "source": [
    "question_blocks = [b for b in blocks if \"Question\" in b.get_tags(inherit=False)]\n",
    "for b in question_blocks:\n",
    "    display(HTML(style + b.to_html()))"
   ]
  },
  {
   "cell_type": "code",
   "execution_count": null,
   "metadata": {},
   "outputs": [],
   "source": [
    "\n",
    "for tag in tags:"
   ]
  },
  {
   "cell_type": "code",
   "execution_count": 18,
   "metadata": {},
   "outputs": [
    {
     "data": {
      "text/plain": [
       "['total_count: 1',\n",
       " 'February 17th, 2020',\n",
       " 'TODO',\n",
       " '↑_count: 1',\n",
       " 'due: 2020-08-29',\n",
       " 'Roam Orbiter',\n",
       " 'schedule: ExpDefault',\n",
       " 'interval: 4',\n",
       " 'Automation',\n",
       " 'feedback: Vote']"
      ]
     },
     "execution_count": 18,
     "metadata": {},
     "output_type": "execute_result"
    }
   ],
   "source": [
    "tags[:10]"
   ]
  },
  {
   "cell_type": "code",
   "execution_count": 13,
   "metadata": {},
   "outputs": [
    {
     "data": {
      "text/plain": [
       "473"
      ]
     },
     "execution_count": 13,
     "metadata": {},
     "output_type": "execute_result"
    }
   ],
   "source": [
    "len(blocks)"
   ]
  },
  {
   "cell_type": "code",
   "execution_count": 5,
   "metadata": {},
   "outputs": [
    {
     "data": {
      "text/plain": [
       "<Block(uid='tIOz2lVKl', string='08:07 [[Th...')>"
      ]
     },
     "execution_count": 5,
     "metadata": {},
     "output_type": "execute_result"
    }
   ],
   "source": [
    "page.children[0]"
   ]
  },
  {
   "cell_type": "code",
   "execution_count": 7,
   "metadata": {},
   "outputs": [
    {
     "data": {
      "text/plain": [
       "datetime.datetime(2020, 8, 25, 8, 56, 31, 982000)"
      ]
     },
     "execution_count": 7,
     "metadata": {},
     "output_type": "execute_result"
    }
   ],
   "source": [
    "page.children[0].edit_time"
   ]
  },
  {
   "cell_type": "code",
   "execution_count": null,
   "metadata": {},
   "outputs": [],
   "source": [
    "dt.datetime.now"
   ]
  },
  {
   "cell_type": "code",
   "execution_count": 13,
   "metadata": {},
   "outputs": [
    {
     "data": {
      "text/plain": [
       "datetime.datetime(2020, 8, 25, 8, 7, 33, 154000)"
      ]
     },
     "execution_count": 13,
     "metadata": {},
     "output_type": "execute_result"
    }
   ],
   "source": [
    "dt.datetime.fromtimestamp(page.children[0].create_time/1000)"
   ]
  },
  {
   "cell_type": "code",
   "execution_count": 6,
   "metadata": {},
   "outputs": [
    {
     "data": {
      "text/plain": [
       "1572921265120"
      ]
     },
     "execution_count": 6,
     "metadata": {},
     "output_type": "execute_result"
    }
   ],
   "source": [
    "db.pages[0].children[0].create_time/"
   ]
  },
  {
   "cell_type": "code",
   "execution_count": null,
   "metadata": {},
   "outputs": [],
   "source": [
    "k"
   ]
  }
 ],
 "metadata": {
  "kernelspec": {
   "display_name": "Python 3",
   "language": "python",
   "name": "python3"
  },
  "language_info": {
   "codemirror_mode": {
    "name": "ipython",
    "version": 3
   },
   "file_extension": ".py",
   "mimetype": "text/x-python",
   "name": "python",
   "nbconvert_exporter": "python",
   "pygments_lexer": "ipython3",
   "version": "3.7.1"
  }
 },
 "nbformat": 4,
 "nbformat_minor": 4
}
