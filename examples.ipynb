{
 "cells": [
  {
   "cell_type": "code",
   "execution_count": 1,
   "metadata": {},
   "outputs": [],
   "source": [
    "%load_ext autoreload\n",
    "%autoreload 2\n",
    "from pyroam import RoamGraph"
   ]
  },
  {
   "cell_type": "code",
   "execution_count": 2,
   "metadata": {},
   "outputs": [],
   "source": [
    "import datetime as dt\n",
    "ROAM_EXPORT_PATH = \"~/Github/roam_backup/json/second_brain.json\"\n",
    "db = RoamGraph.from_path(ROAM_EXPORT_PATH)"
   ]
  },
  {
   "cell_type": "markdown",
   "metadata": {},
   "source": [
    "TODO\n",
    "- docvec with spacy\n",
    "- print out fancy html style including parent breadcrumb blocks\n",
    "- Implement map, reduce, and filter. Or re"
   ]
  },
  {
   "cell_type": "code",
   "execution_count": 11,
   "metadata": {},
   "outputs": [
    {
     "ename": "ModuleNotFoundError",
     "evalue": "No module named 'wordcloud'",
     "output_type": "error",
     "traceback": [
      "\u001b[0;31m---------------------------------------------------------------------------\u001b[0m",
      "\u001b[0;31mModuleNotFoundError\u001b[0m                       Traceback (most recent call last)",
      "\u001b[0;32m<ipython-input-11-dc1828f2a80e>\u001b[0m in \u001b[0;36m<module>\u001b[0;34m\u001b[0m\n\u001b[0;32m----> 1\u001b[0;31m \u001b[0;32mimport\u001b[0m \u001b[0mwordcloud\u001b[0m\u001b[0;34m\u001b[0m\u001b[0;34m\u001b[0m\u001b[0m\n\u001b[0m",
      "\u001b[0;31mModuleNotFoundError\u001b[0m: No module named 'wordcloud'"
     ]
    }
   ],
   "source": [
    "import wordcloud"
   ]
  },
  {
   "cell_type": "markdown",
   "metadata": {},
   "source": [
    "## Unsupported queries"
   ]
  },
  {
   "cell_type": "markdown",
   "metadata": {},
   "source": [
    "### Top 10 page references used in the last 2 days"
   ]
  },
  {
   "cell_type": "code",
   "execution_count": 7,
   "metadata": {},
   "outputs": [],
   "source": [
    "from functools import reduce\n",
    "from collections import Counter\n",
    "import datetime as dt"
   ]
  },
  {
   "cell_type": "code",
   "execution_count": 8,
   "metadata": {},
   "outputs": [],
   "source": [
    "two_days_ago = dt.datetime.now() - dt.timedelta(7)\n",
    "blocks = db.query_many(lambda b: (b.create_time >= two_days_ago)&(\":\" not in b.to_string()))"
   ]
  },
  {
   "cell_type": "code",
   "execution_count": 9,
   "metadata": {},
   "outputs": [],
   "source": [
    "tags = reduce(lambda x,y: x+y, [b.get_tags(inherit=False) for b in blocks])\n",
    "counter = Counter(tags)"
   ]
  },
  {
   "cell_type": "code",
   "execution_count": 14,
   "metadata": {},
   "outputs": [],
   "source": [
    "import pandas as pd"
   ]
  },
  {
   "cell_type": "code",
   "execution_count": 28,
   "metadata": {},
   "outputs": [
    {
     "data": {
      "text/plain": [
       "<matplotlib.axes._subplots.AxesSubplot at 0x7fcc5b0c6048>"
      ]
     },
     "execution_count": 28,
     "metadata": {},
     "output_type": "execute_result"
    },
    {
     "data": {
      "image/png": "[encoded data removed]",
      "text/plain": [
       "<Figure size 432x288 with 1 Axes>"
      ]
     },
     "metadata": {
      "needs_background": "light"
     },
     "output_type": "display_data"
    }
   ],
   "source": [
    "tags, count = list(zip(*counter.most_common()[:20]))\n",
    "s = pd.Series(count[::-1], index=tags[::-1])\n",
    "s.plot.barh()"
   ]
  },
  {
   "cell_type": "code",
   "execution_count": 10,
   "metadata": {},
   "outputs": [
    {
     "data": {
      "text/plain": [
       "[('Ajay Agrawal', 19),\n",
       " ('Vinod Musunuri', 6),\n",
       " ('Rahul Bhardwaj', 6),\n",
       " ('Plan', 5),\n",
       " (\"Today's [[Plan]]\", 5),\n",
       " ('Repul Kher', 5),\n",
       " ('DONE', 4),\n",
       " ('Distinguished Engineer', 3),\n",
       " ('David Gholami', 3),\n",
       " ('SAMS', 3)]"
      ]
     },
     "execution_count": 10,
     "metadata": {},
     "output_type": "execute_result"
    }
   ],
   "source": [
    "counter.most_common()[:10]"
   ]
  },
  {
   "cell_type": "markdown",
   "metadata": {},
   "source": [
    "### What were the questions I was asking?"
   ]
  },
  {
   "cell_type": "code",
   "execution_count": 39,
   "metadata": {},
   "outputs": [],
   "source": [
    "from IPython.core.display import display, HTML\n",
    "import os\n",
    "with open(\"style.css\") as f:\n",
    "    style = \"<style>%s</style>\" % f.read()"
   ]
  },
  {
   "cell_type": "code",
   "execution_count": 44,
   "metadata": {},
   "outputs": [
    {
     "data": {
      "text/html": [
       "<style>.rm-page-ref-brackets {\n",
       "    color: #a7b6c2;\n",
       "}\n",
       "\n",
       ".rm-page-ref-link-color {\n",
       "    color: #106ba3;\n",
       "}\n",
       "\n",
       ".rm-page-ref-tag {\n",
       "    color: #a7b6c2;\n",
       "}\n",
       "\n",
       ".rm-block-ref {\n",
       "    padding: 2px 2px;\n",
       "    margin: -2px 0px;\n",
       "    display: inline;\n",
       "    border-bottom: 0.5px solid #d8e1e8;\n",
       "    cursor: alias;\n",
       "}\n",
       "\n",
       ".roam-highlight {\n",
       "    background-color: #fef09f;\n",
       "    margin: -2px;\n",
       "    padding: 2px;\n",
       "}\n",
       "\n",
       ".bp3-button.bp3-small, .bp3-small .bp3-button {\n",
       "    min-height: 24px;\n",
       "    min-width: 24px;\n",
       "    padding: 0 7px;\n",
       "}\n",
       "\n",
       "pre {\n",
       "    text-align: left;\n",
       "    border-radius: 5px;\n",
       "    border: 1px solid #BCBEC0;\n",
       "    display: block;\n",
       "    padding: 10px;\n",
       "    margin: 0 0 10px;\n",
       "    font:12px Monaco,Consolas,\"Andale  Mono\",\"DejaVu Sans Mono\",monospace;\n",
       "    color: #333;\n",
       "    background-color: #f5f5f5;\n",
       "}\n",
       "</style>Where did this point come from? <span tabindex=\"-1\" data-tag=\"Question\" class=\"rm-page-ref rm-page-ref-tag\">#Question</span>"
      ],
      "text/plain": [
       "<IPython.core.display.HTML object>"
      ]
     },
     "metadata": {},
     "output_type": "display_data"
    },
    {
     "data": {
      "text/html": [
       "<style>.rm-page-ref-brackets {\n",
       "    color: #a7b6c2;\n",
       "}\n",
       "\n",
       ".rm-page-ref-link-color {\n",
       "    color: #106ba3;\n",
       "}\n",
       "\n",
       ".rm-page-ref-tag {\n",
       "    color: #a7b6c2;\n",
       "}\n",
       "\n",
       ".rm-block-ref {\n",
       "    padding: 2px 2px;\n",
       "    margin: -2px 0px;\n",
       "    display: inline;\n",
       "    border-bottom: 0.5px solid #d8e1e8;\n",
       "    cursor: alias;\n",
       "}\n",
       "\n",
       ".roam-highlight {\n",
       "    background-color: #fef09f;\n",
       "    margin: -2px;\n",
       "    padding: 2px;\n",
       "}\n",
       "\n",
       ".bp3-button.bp3-small, .bp3-small .bp3-button {\n",
       "    min-height: 24px;\n",
       "    min-width: 24px;\n",
       "    padding: 0 7px;\n",
       "}\n",
       "\n",
       "pre {\n",
       "    text-align: left;\n",
       "    border-radius: 5px;\n",
       "    border: 1px solid #BCBEC0;\n",
       "    display: block;\n",
       "    padding: 10px;\n",
       "    margin: 0 0 10px;\n",
       "    font:12px Monaco,Consolas,\"Andale  Mono\",\"DejaVu Sans Mono\",monospace;\n",
       "    color: #333;\n",
       "    background-color: #f5f5f5;\n",
       "}\n",
       "</style>Can see s3 buckets on my Hue cluster because the bucket and hue are on the same AWS account? <span tabindex=\"-1\" data-tag=\"Question\" class=\"rm-page-ref rm-page-ref-tag\">#Question</span>"
      ],
      "text/plain": [
       "<IPython.core.display.HTML object>"
      ]
     },
     "metadata": {},
     "output_type": "display_data"
    },
    {
     "data": {
      "text/html": [
       "<style>.rm-page-ref-brackets {\n",
       "    color: #a7b6c2;\n",
       "}\n",
       "\n",
       ".rm-page-ref-link-color {\n",
       "    color: #106ba3;\n",
       "}\n",
       "\n",
       ".rm-page-ref-tag {\n",
       "    color: #a7b6c2;\n",
       "}\n",
       "\n",
       ".rm-block-ref {\n",
       "    padding: 2px 2px;\n",
       "    margin: -2px 0px;\n",
       "    display: inline;\n",
       "    border-bottom: 0.5px solid #d8e1e8;\n",
       "    cursor: alias;\n",
       "}\n",
       "\n",
       ".roam-highlight {\n",
       "    background-color: #fef09f;\n",
       "    margin: -2px;\n",
       "    padding: 2px;\n",
       "}\n",
       "\n",
       ".bp3-button.bp3-small, .bp3-small .bp3-button {\n",
       "    min-height: 24px;\n",
       "    min-width: 24px;\n",
       "    padding: 0 7px;\n",
       "}\n",
       "\n",
       "pre {\n",
       "    text-align: left;\n",
       "    border-radius: 5px;\n",
       "    border: 1px solid #BCBEC0;\n",
       "    display: block;\n",
       "    padding: 10px;\n",
       "    margin: 0 0 10px;\n",
       "    font:12px Monaco,Consolas,\"Andale  Mono\",\"DejaVu Sans Mono\",monospace;\n",
       "    color: #333;\n",
       "    background-color: #f5f5f5;\n",
       "}\n",
       "</style>Why we only have the pig editor available? Was that selected when the cluster was set up? <span tabindex=\"-1\" data-tag=\"Question\" class=\"rm-page-ref rm-page-ref-tag\">#Question</span>"
      ],
      "text/plain": [
       "<IPython.core.display.HTML object>"
      ]
     },
     "metadata": {},
     "output_type": "display_data"
    },
    {
     "data": {
      "text/html": [
       "<style>.rm-page-ref-brackets {\n",
       "    color: #a7b6c2;\n",
       "}\n",
       "\n",
       ".rm-page-ref-link-color {\n",
       "    color: #106ba3;\n",
       "}\n",
       "\n",
       ".rm-page-ref-tag {\n",
       "    color: #a7b6c2;\n",
       "}\n",
       "\n",
       ".rm-block-ref {\n",
       "    padding: 2px 2px;\n",
       "    margin: -2px 0px;\n",
       "    display: inline;\n",
       "    border-bottom: 0.5px solid #d8e1e8;\n",
       "    cursor: alias;\n",
       "}\n",
       "\n",
       ".roam-highlight {\n",
       "    background-color: #fef09f;\n",
       "    margin: -2px;\n",
       "    padding: 2px;\n",
       "}\n",
       "\n",
       ".bp3-button.bp3-small, .bp3-small .bp3-button {\n",
       "    min-height: 24px;\n",
       "    min-width: 24px;\n",
       "    padding: 0 7px;\n",
       "}\n",
       "\n",
       "pre {\n",
       "    text-align: left;\n",
       "    border-radius: 5px;\n",
       "    border: 1px solid #BCBEC0;\n",
       "    display: block;\n",
       "    padding: 10px;\n",
       "    margin: 0 0 10px;\n",
       "    font:12px Monaco,Consolas,\"Andale  Mono\",\"DejaVu Sans Mono\",monospace;\n",
       "    color: #333;\n",
       "    background-color: #f5f5f5;\n",
       "}\n",
       "</style>Can spark estimate how much memory is needed for a given script before running it? <span tabindex=\"-1\" data-tag=\"Question\" class=\"rm-page-ref rm-page-ref-tag\">#Question</span>"
      ],
      "text/plain": [
       "<IPython.core.display.HTML object>"
      ]
     },
     "metadata": {},
     "output_type": "display_data"
    },
    {
     "data": {
      "text/html": [
       "<style>.rm-page-ref-brackets {\n",
       "    color: #a7b6c2;\n",
       "}\n",
       "\n",
       ".rm-page-ref-link-color {\n",
       "    color: #106ba3;\n",
       "}\n",
       "\n",
       ".rm-page-ref-tag {\n",
       "    color: #a7b6c2;\n",
       "}\n",
       "\n",
       ".rm-block-ref {\n",
       "    padding: 2px 2px;\n",
       "    margin: -2px 0px;\n",
       "    display: inline;\n",
       "    border-bottom: 0.5px solid #d8e1e8;\n",
       "    cursor: alias;\n",
       "}\n",
       "\n",
       ".roam-highlight {\n",
       "    background-color: #fef09f;\n",
       "    margin: -2px;\n",
       "    padding: 2px;\n",
       "}\n",
       "\n",
       ".bp3-button.bp3-small, .bp3-small .bp3-button {\n",
       "    min-height: 24px;\n",
       "    min-width: 24px;\n",
       "    padding: 0 7px;\n",
       "}\n",
       "\n",
       "pre {\n",
       "    text-align: left;\n",
       "    border-radius: 5px;\n",
       "    border: 1px solid #BCBEC0;\n",
       "    display: block;\n",
       "    padding: 10px;\n",
       "    margin: 0 0 10px;\n",
       "    font:12px Monaco,Consolas,\"Andale  Mono\",\"DejaVu Sans Mono\",monospace;\n",
       "    color: #333;\n",
       "    background-color: #f5f5f5;\n",
       "}\n",
       "</style>What does this mean? <span tabindex=\"-1\" data-tag=\"Question\" class=\"rm-page-ref rm-page-ref-tag\">#Question</span>"
      ],
      "text/plain": [
       "<IPython.core.display.HTML object>"
      ]
     },
     "metadata": {},
     "output_type": "display_data"
    },
    {
     "data": {
      "text/html": [
       "<style>.rm-page-ref-brackets {\n",
       "    color: #a7b6c2;\n",
       "}\n",
       "\n",
       ".rm-page-ref-link-color {\n",
       "    color: #106ba3;\n",
       "}\n",
       "\n",
       ".rm-page-ref-tag {\n",
       "    color: #a7b6c2;\n",
       "}\n",
       "\n",
       ".rm-block-ref {\n",
       "    padding: 2px 2px;\n",
       "    margin: -2px 0px;\n",
       "    display: inline;\n",
       "    border-bottom: 0.5px solid #d8e1e8;\n",
       "    cursor: alias;\n",
       "}\n",
       "\n",
       ".roam-highlight {\n",
       "    background-color: #fef09f;\n",
       "    margin: -2px;\n",
       "    padding: 2px;\n",
       "}\n",
       "\n",
       ".bp3-button.bp3-small, .bp3-small .bp3-button {\n",
       "    min-height: 24px;\n",
       "    min-width: 24px;\n",
       "    padding: 0 7px;\n",
       "}\n",
       "\n",
       "pre {\n",
       "    text-align: left;\n",
       "    border-radius: 5px;\n",
       "    border: 1px solid #BCBEC0;\n",
       "    display: block;\n",
       "    padding: 10px;\n",
       "    margin: 0 0 10px;\n",
       "    font:12px Monaco,Consolas,\"Andale  Mono\",\"DejaVu Sans Mono\",monospace;\n",
       "    color: #333;\n",
       "    background-color: #f5f5f5;\n",
       "}\n",
       "</style>Is any of that business about amazon endpoints to communicate between s3 and EMR coming into play here? <span tabindex=\"-1\" data-tag=\"Question\" class=\"rm-page-ref rm-page-ref-tag\">#Question</span>"
      ],
      "text/plain": [
       "<IPython.core.display.HTML object>"
      ]
     },
     "metadata": {},
     "output_type": "display_data"
    }
   ],
   "source": [
    "question_blocks = [b for b in blocks if \"Question\" in b.get_tags(inherit=False)]\n",
    "for b in question_blocks:\n",
    "    display(HTML(style + b.to_html()))"
   ]
  },
  {
   "cell_type": "markdown",
   "metadata": {},
   "source": [
    "### How much did my writing about \"Life logging\" vary over the last month?"
   ]
  },
  {
   "cell_type": "code",
   "execution_count": null,
   "metadata": {},
   "outputs": [],
   "source": []
  }
 ],
 "metadata": {
  "kernelspec": {
   "display_name": "Python 3",
   "language": "python",
   "name": "python3"
  },
  "language_info": {
   "codemirror_mode": {
    "name": "ipython",
    "version": 3
   },
   "file_extension": ".py",
   "mimetype": "text/x-python",
   "name": "python",
   "nbconvert_exporter": "python",
   "pygments_lexer": "ipython3",
   "version": "3.7.1"
  }
 },
 "nbformat": 4,
 "nbformat_minor": 4
}
